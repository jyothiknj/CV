{
  "nbformat": 4,
  "nbformat_minor": 0,
  "metadata": {
    "colab": {
      "name": "Tale of two cities - Highest count words.ipynb",
      "version": "0.3.2",
      "provenance": [],
      "include_colab_link": true
    },
    "kernelspec": {
      "name": "python3",
      "display_name": "Python 3"
    }
  },
  "cells": [
    {
      "cell_type": "markdown",
      "metadata": {
        "id": "view-in-github",
        "colab_type": "text"
      },
      "source": [
        "<a href=\"https://colab.research.google.com/github/jyothiknj/CV/blob/master/Tale_of_two_cities_Highest_count_words.ipynb\" target=\"_parent\"><img src=\"https://colab.research.google.com/assets/colab-badge.svg\" alt=\"Open In Colab\"/></a>"
      ]
    },
    {
      "metadata": {
        "id": "YisJ5wUzcbiO",
        "colab_type": "code",
        "colab": {}
      },
      "cell_type": "code",
      "source": [
        "!wget https://www.dropbox.com/s/ug2l66dvho69j93/A%20tale%20of%20two%20cities.txt -q"
      ],
      "execution_count": 0,
      "outputs": []
    },
    {
      "metadata": {
        "id": "xGG0OLLQcV_r",
        "colab_type": "code",
        "colab": {
          "base_uri": "https://localhost:8080/",
          "height": 281
        },
        "outputId": "a608636a-16fb-41cb-e9f2-bcec9049d4bb"
      },
      "cell_type": "code",
      "source": [
        "myfile = open(\"A tale of two cities.txt\")\n",
        "s = myfile.read()\n",
        "myfile.seek(0)\n",
        "s=myfile.readlines()\n",
        "num_lines=len(s)\n",
        "print(\"Number of lines\",num_lines)\n",
        "\n",
        "characters=0\n",
        "for line in s:\n",
        "  characters+=len(line)\n",
        "print(\"Number of Characters: \",characters)\n",
        "\n",
        "\n",
        "myfile.seek(0)\n",
        "words=myfile.read().split()\n",
        "print(\"Number of words\",len(words))\n",
        "\n",
        "unique_words=list(set(words))\n",
        "print(\"Unique words:\",len(unique_words))\n",
        "\n",
        "\n",
        "\n",
        "dict_words={}\n",
        "counts=[]\n",
        "for i in unique_words:\n",
        "  num=words.count(i)\n",
        "  dict_words[i]=num\n",
        "  counts.append(num)\n",
        "counts.sort()\n",
        "high_counts=counts[-10:]\n",
        "high_count_words={}\n",
        "for key,value in dict_words.items():\n",
        "  for i in high_counts:\n",
        "    if(dict_words[key]==i):\n",
        "      high_count_words[key]=i\n",
        "      \n",
        "\n",
        "print(\"Highest appearing 10 words in the file:\")\n",
        "for i in high_count_words.items():\n",
        "     print(i)\n",
        "    \n"
      ],
      "execution_count": 2,
      "outputs": [
        {
          "output_type": "stream",
          "text": [
            "Number of lines 16272\n",
            "Number of Characters:  776696\n",
            "Number of words 138883\n",
            "Unique words: 19665\n",
            "Highest appearing 10 words in the file:\n",
            "('and', 4745)\n",
            "('that', 1663)\n",
            "('his', 1911)\n",
            "('in', 2447)\n",
            "('I', 1446)\n",
            "('a', 2825)\n",
            "('the', 7514)\n",
            "('to', 3458)\n",
            "('was', 1673)\n",
            "('of', 4065)\n"
          ],
          "name": "stdout"
        }
      ]
    }
  ]
}